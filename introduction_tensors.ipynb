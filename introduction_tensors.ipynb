{
 "cells": [
  {
   "cell_type": "code",
   "execution_count": 5,
   "id": "8c21c0ad-135d-4eb4-b330-39d4e829e508",
   "metadata": {},
   "outputs": [
    {
     "name": "stdout",
     "output_type": "stream",
     "text": [
      "<module 'tensorflow._api.v2.version' from 'C:\\\\Users\\\\igora\\\\AppData\\\\Local\\\\Programs\\\\Python\\\\Python311\\\\Lib\\\\site-packages\\\\tensorflow\\\\_api\\\\v2\\\\version\\\\__init__.py'>\n"
     ]
    }
   ],
   "source": [
    "import tensorflow as tf\n",
    "print(tf.version)"
   ]
  },
  {
   "cell_type": "markdown",
   "id": "e109d7a1-d79e-42d3-8673-15fabe61d437",
   "metadata": {},
   "source": [
    "## Rank/Degree of Tensors\n",
    "Number of dimensions involved in the Tensor"
   ]
  },
  {
   "cell_type": "code",
   "execution_count": 10,
   "id": "998dcbc8-baa2-461b-8dba-672456bfefcd",
   "metadata": {},
   "outputs": [
    {
     "data": {
      "text/plain": [
       "<tf.Tensor: shape=(), dtype=int32, numpy=2>"
      ]
     },
     "execution_count": 10,
     "metadata": {},
     "output_type": "execute_result"
    }
   ],
   "source": [
    "rank2_tensor = tf.Variable([['task','ok','um'],['test','yes','dois'],['aval','maybe','tres']], tf.string)\n",
    "tf.rank(rank2_tensor)"
   ]
  },
  {
   "cell_type": "markdown",
   "id": "3c64f848-42d1-4e7e-ac79-dcda3e5410cf",
   "metadata": {},
   "source": [
    "## Shape of a Tensor\n",
    "Amount of elements that exist in each dimension"
   ]
  },
  {
   "cell_type": "code",
   "execution_count": 11,
   "id": "8e490cfb-6edf-428a-97cb-76ce294ac0f6",
   "metadata": {},
   "outputs": [
    {
     "data": {
      "text/plain": [
       "<tf.Tensor: shape=(2,), dtype=int32, numpy=array([3, 3])>"
      ]
     },
     "execution_count": 11,
     "metadata": {},
     "output_type": "execute_result"
    }
   ],
   "source": [
    "tf.shape(rank2_tensor)"
   ]
  },
  {
   "cell_type": "markdown",
   "id": "dbca119b-93e3-4904-9d2e-419df831a5f2",
   "metadata": {},
   "source": [
    "## Changing Shape\n",
    "The number of elements of a tensor is the product of the size of all its shapes. There are often many shapes that have the same number of elements, making it convenient to be able to change the shape of a tensor."
   ]
  },
  {
   "cell_type": "code",
   "execution_count": 21,
   "id": "15eefb6e-92dc-45da-93b1-be4de5c157fb",
   "metadata": {},
   "outputs": [
    {
     "name": "stdout",
     "output_type": "stream",
     "text": [
      "tf.Tensor(\n",
      "[[[1. 1. 1. 1.]\n",
      "  [1. 1. 1. 1.]]], shape=(1, 2, 4), dtype=float32)\n",
      "tf.Tensor(\n",
      "[[[1. 1.]\n",
      "  [1. 1.]]\n",
      "\n",
      " [[1. 1.]\n",
      "  [1. 1.]]], shape=(2, 2, 2), dtype=float32)\n",
      "tf.Tensor(\n",
      "[[1. 1.]\n",
      " [1. 1.]\n",
      " [1. 1.]\n",
      " [1. 1.]], shape=(4, 2), dtype=float32)\n"
     ]
    }
   ],
   "source": [
    "tensor1 = tf.ones([1,2,4]) # tensor with shape [1,2,4] full of ones\n",
    "print(tensor1)\n",
    "\n",
    "tensor2 = tf.reshape(tensor1, [2,2,2])\n",
    "print(tensor2)\n",
    "\n",
    "tensor3 = tf.reshape(tensor2, [4,-1]) # -1 gets a number to return a valid shape, \n",
    "print(tensor3)                        # with same product of last tensor\n"
   ]
  },
  {
   "cell_type": "markdown",
   "id": "8776770d-5b35-4b30-8753-69ddb51fd337",
   "metadata": {},
   "source": [
    "## Types of Tensors\n",
    "- Variable\n",
    "- Constant\n",
    "- Placeholder\n",
    "- SparseTensor\n",
    "\n",
    "With the exception of **variable**, all of these tensors are immutable. We use the **variable** tensor to potentially change the value of a tensor posteriorly.\n",
    "\n",
    "## Evaluating Tensors\n",
    "\n",
    "Sometimes, it will be necessary to evaluate a tensor. That means get its value. Since tensors represent partially complete computation, there's something called *session* that can evaluate the tensor."
   ]
  },
  {
   "cell_type": "code",
   "execution_count": 23,
   "id": "e26634e2-998e-4951-a394-5bcfb40046bf",
   "metadata": {
    "tags": []
   },
   "outputs": [],
   "source": [
    "with tf.Session() as sess:\n",
    "    tensor.eval()"
   ]
  }
 ],
 "metadata": {
  "kernelspec": {
   "display_name": "Python 3 (ipykernel)",
   "language": "python",
   "name": "python3"
  },
  "language_info": {
   "codemirror_mode": {
    "name": "ipython",
    "version": 3
   },
   "file_extension": ".py",
   "mimetype": "text/x-python",
   "name": "python",
   "nbconvert_exporter": "python",
   "pygments_lexer": "ipython3",
   "version": "3.11.0"
  }
 },
 "nbformat": 4,
 "nbformat_minor": 5
}
